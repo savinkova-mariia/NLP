{
  "nbformat": 4,
  "nbformat_minor": 0,
  "metadata": {
    "colab": {
      "name": "NLP-lab4.ipynb",
      "provenance": [],
      "include_colab_link": true
    },
    "kernelspec": {
      "name": "python3",
      "display_name": "Python 3"
    },
    "language_info": {
      "name": "python"
    }
  },
  "cells": [
    {
      "cell_type": "markdown",
      "metadata": {
        "id": "view-in-github",
        "colab_type": "text"
      },
      "source": [
        "<a href=\"https://colab.research.google.com/github/savinkova-mariia/NLP/blob/main/NLP_lab.ipynb\" target=\"_parent\"><img src=\"https://colab.research.google.com/assets/colab-badge.svg\" alt=\"Open In Colab\"/></a>"
      ]
    },
    {
      "cell_type": "code",
      "metadata": {
        "id": "yMwpGPAo9-Jb",
        "colab": {
          "base_uri": "https://localhost:8080/"
        },
        "outputId": "049aeb9f-f6fd-4f3b-87b9-73ce15e7ad37"
      },
      "source": [
        "import pandas as pd\n",
        "from sklearn.model_selection import train_test_split\n",
        "import nltk\n",
        "from os import getcwd\n",
        "import numpy as np\n",
        "\n",
        "filePath = f\"{getcwd()}/content/utils.py\"\n",
        "nltk.data.path.append(filePath)\n",
        "from utils import build_freqs\n",
        "\n",
        "nltk.download('stopwords')\n",
        "\n"
      ],
      "execution_count": 53,
      "outputs": [
        {
          "output_type": "stream",
          "name": "stdout",
          "text": [
            "[nltk_data] Downloading package stopwords to /root/nltk_data...\n",
            "[nltk_data]   Package stopwords is already up-to-date!\n"
          ]
        },
        {
          "output_type": "execute_result",
          "data": {
            "text/plain": [
              "True"
            ]
          },
          "metadata": {},
          "execution_count": 53
        }
      ]
    },
    {
      "cell_type": "code",
      "metadata": {
        "id": "i37ynr1xILN1"
      },
      "source": [
        "df = pd.read_table('/content/reviews.tsv') \n",
        "\n",
        "df_nozero = df.drop(df[(df[\"rating\"] == 0.0)].index) \n",
        "\n",
        "df_pos_1 = df_nozero.drop(df_nozero[(df_nozero[\"rating\"] == 1.0)].index)\n",
        "df_pos_2 = df_pos_1.drop(df_pos_1[(df_pos_1[\"rating\"] == 2.0)].index)\n",
        "df_pos_final = df_pos_2.drop(df_pos_2[(df_pos_2[\"rating\"] == 3.0)].index)\n",
        "\n",
        "df_neg = df_nozero.drop(df_nozero[(df_nozero[\"rating\"] == 4.0)].index)\n",
        "df_neg_final = df_neg.drop(df_negative[(df_negative[\"rating\"] == 5.0)].index)\n",
        "\n"
      ],
      "execution_count": 58,
      "outputs": []
    },
    {
      "cell_type": "code",
      "metadata": {
        "id": "KaRPn_hg_REZ"
      },
      "source": [
        "pos_train, pos_test, neg_train, neg_test = train_test_split(df_nozero.review_text, df_nozero.rating, test_size=0.2) "
      ],
      "execution_count": 66,
      "outputs": []
    },
    {
      "cell_type": "code",
      "metadata": {
        "id": "W54ODzpGaGQt",
        "outputId": "e4930fd7-388c-456e-8c70-83c1e1b3c138",
        "colab": {
          "base_uri": "https://localhost:8080/"
        }
      },
      "source": [
        "neg_test"
      ],
      "execution_count": 71,
      "outputs": [
        {
          "output_type": "execute_result",
          "data": {
            "text/plain": [
              "178020    4.0\n",
              "264232    5.0\n",
              "147249    5.0\n",
              "87165     5.0\n",
              "308549    1.0\n",
              "         ... \n",
              "300503    5.0\n",
              "231052    4.0\n",
              "280743    5.0\n",
              "282211    5.0\n",
              "151499    1.0\n",
              "Name: rating, Length: 65706, dtype: float64"
            ]
          },
          "metadata": {},
          "execution_count": 71
        }
      ]
    },
    {
      "cell_type": "code",
      "metadata": {
        "id": "qoRiCaU2GOTK"
      },
      "source": [
        "train_y = np.append(np.ones((len(pos_train), 1)), np.zeros((len(neg_train), 1)), axis=0) \n",
        "test_y = np.append(np.ones((len(pos_test), 1)), np.zeros((len(neg_test), 1)), axis=0) \n",
        "\n",
        "#freqs = build_freqs(pos_train, train_y)\n"
      ],
      "execution_count": 23,
      "outputs": []
    },
    {
      "cell_type": "code",
      "metadata": {
        "id": "1_S5zv3SLPhv"
      },
      "source": [
        ""
      ],
      "execution_count": null,
      "outputs": []
    }
  ]
}