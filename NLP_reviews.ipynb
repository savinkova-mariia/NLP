{
  "nbformat": 4,
  "nbformat_minor": 0,
  "metadata": {
    "colab": {
      "name": "NLP-reviews.ipynb",
      "provenance": [],
      "collapsed_sections": [],
      "mount_file_id": "1Y0On5giL4YMc03pkoIGQBFBDcByDnhI-",
      "authorship_tag": "ABX9TyMS8w2ViM+CjYuR9qQMUmki",
      "include_colab_link": true
    },
    "kernelspec": {
      "display_name": "Python 3",
      "name": "python3"
    },
    "language_info": {
      "name": "python"
    }
  },
  "cells": [
    {
      "cell_type": "markdown",
      "metadata": {
        "id": "view-in-github",
        "colab_type": "text"
      },
      "source": [
        "<a href=\"https://colab.research.google.com/github/savinkova-mariia/NLP/blob/main/NLP_reviews.ipynb\" target=\"_parent\"><img src=\"https://colab.research.google.com/assets/colab-badge.svg\" alt=\"Open In Colab\"/></a>"
      ]
    },
    {
      "cell_type": "markdown",
      "metadata": {
        "id": "YvU_gfL5LNfo"
      },
      "source": [
        "# All Imports"
      ]
    },
    {
      "cell_type": "code",
      "metadata": {
        "colab": {
          "base_uri": "https://localhost:8080/"
        },
        "id": "2nB9CPv2KtUD",
        "outputId": "9c344b14-854c-40a3-ad44-b2c5fc2d9bdf"
      },
      "source": [
        "import pandas as pd\n",
        "\n",
        "import nltk\n",
        "from nltk.corpus import stopwords\n",
        "from nltk.stem import PorterStemmer, WordNetLemmatizer\n",
        "import string\n",
        "import re\n",
        "from nltk import word_tokenize\n",
        "import matplotlib.pyplot as plt\n",
        "import seaborn as sns\n",
        "\n",
        "nltk.download(\"wordnet\")\n",
        "nltk.download('stopwords')\n",
        "nltk.download('punkt')\n",
        "nltk.download('words')\n",
        "\n",
        "from sklearn.feature_extraction.text import TfidfVectorizer, TfidfTransformer\n",
        "from sklearn.model_selection import train_test_split\n",
        "\n",
        "from sklearn.linear_model import LogisticRegression\n",
        "from sklearn.metrics import accuracy_score\n",
        "from sklearn.metrics import classification_report, confusion_matrix\n",
        "from sklearn.metrics import ConfusionMatrixDisplay\n"
      ],
      "execution_count": 33,
      "outputs": [
        {
          "output_type": "stream",
          "name": "stdout",
          "text": [
            "[nltk_data] Downloading package wordnet to /root/nltk_data...\n",
            "[nltk_data]   Package wordnet is already up-to-date!\n",
            "[nltk_data] Downloading package stopwords to /root/nltk_data...\n",
            "[nltk_data]   Package stopwords is already up-to-date!\n",
            "[nltk_data] Downloading package punkt to /root/nltk_data...\n",
            "[nltk_data]   Package punkt is already up-to-date!\n",
            "[nltk_data] Downloading package words to /root/nltk_data...\n",
            "[nltk_data]   Package words is already up-to-date!\n"
          ]
        }
      ]
    },
    {
      "cell_type": "code",
      "metadata": {
        "id": "fZTsxtDuLFpp"
      },
      "source": [
        "df=pd.read_csv('/content/drive/MyDrive/NLP/reviews.tsv', sep='\\t')"
      ],
      "execution_count": 34,
      "outputs": []
    },
    {
      "cell_type": "markdown",
      "metadata": {
        "id": "fVOrN1syLYBf"
      },
      "source": [
        "# Data Cleaning"
      ]
    },
    {
      "cell_type": "markdown",
      "metadata": {
        "id": "_WdkTX_eLmU3"
      },
      "source": [
        "*Removing:*\n",
        "\n",
        "*   reviews with 0 rating\n",
        "*   null values"
      ]
    },
    {
      "cell_type": "code",
      "metadata": {
        "id": "dZEomq8tLcHw"
      },
      "source": [
        "df = df.drop(df[(df[\"rating\"] == 0.0)].index)\n",
        "\n",
        "df.dropna(inplace=True)"
      ],
      "execution_count": 35,
      "outputs": []
    },
    {
      "cell_type": "markdown",
      "metadata": {
        "id": "Bx5XAnIFMkot"
      },
      "source": [
        "*Data Cleaning*"
      ]
    },
    {
      "cell_type": "code",
      "metadata": {
        "id": "671-gMnOMU6b"
      },
      "source": [
        "lemmatizer = WordNetLemmatizer()"
      ],
      "execution_count": 36,
      "outputs": []
    },
    {
      "cell_type": "code",
      "metadata": {
        "id": "6ZYmP3E0Mb0F"
      },
      "source": [
        "stop_words = set(stopwords.words(\"russian\"))"
      ],
      "execution_count": 37,
      "outputs": []
    },
    {
      "cell_type": "code",
      "metadata": {
        "id": "5ovND94kMhVf"
      },
      "source": [
        "def clean_reviews(review):\n",
        "\n",
        "    # removing extra spaces\n",
        "    review = re.sub(\" +\", \" \", review)\n",
        "    # make the lettes in lower case\n",
        "    review = review.lower()\n",
        "    # lemmatizating the words\n",
        "    review = [lemmatizer.lemmatize(token) for token in word_tokenize(review)]\n",
        "    # removing the stop words\n",
        "    review = [word for word in review if not word in stop_words]\n",
        "    # removing the all single letter words\n",
        "    review = [i for i in review if len(i)>1]\n",
        "    # join the text into the string\n",
        "    review = \" \".join(review)\n",
        "\n",
        "    return review"
      ],
      "execution_count": 38,
      "outputs": []
    },
    {
      "cell_type": "code",
      "metadata": {
        "colab": {
          "base_uri": "https://localhost:8080/",
          "height": 419
        },
        "id": "JzholxT7NJED",
        "outputId": "86495f33-7d42-40f3-8055-53373e70711b"
      },
      "source": [
        "df['review_text'] = df['review_text'].apply(clean_reviews)\n",
        "df"
      ],
      "execution_count": 39,
      "outputs": [
        {
          "output_type": "execute_result",
          "data": {
            "text/html": [
              "<div>\n",
              "<style scoped>\n",
              "    .dataframe tbody tr th:only-of-type {\n",
              "        vertical-align: middle;\n",
              "    }\n",
              "\n",
              "    .dataframe tbody tr th {\n",
              "        vertical-align: top;\n",
              "    }\n",
              "\n",
              "    .dataframe thead th {\n",
              "        text-align: right;\n",
              "    }\n",
              "</style>\n",
              "<table border=\"1\" class=\"dataframe\">\n",
              "  <thead>\n",
              "    <tr style=\"text-align: right;\">\n",
              "      <th></th>\n",
              "      <th>permalink</th>\n",
              "      <th>rating</th>\n",
              "      <th>review_text</th>\n",
              "    </tr>\n",
              "  </thead>\n",
              "  <tbody>\n",
              "    <tr>\n",
              "      <th>0</th>\n",
              "      <td>1000095379</td>\n",
              "      <td>4.0</td>\n",
              "      <td>вкусная питца естт летнее кафе доставка приемл...</td>\n",
              "    </tr>\n",
              "    <tr>\n",
              "      <th>1</th>\n",
              "      <td>1000095379</td>\n",
              "      <td>1.0</td>\n",
              "      <td>думал днём детьми посидеть открытой площадке т...</td>\n",
              "    </tr>\n",
              "    <tr>\n",
              "      <th>2</th>\n",
              "      <td>1000095379</td>\n",
              "      <td>4.0</td>\n",
              "      <td>веранда вкусная пицца делают половине паковка ...</td>\n",
              "    </tr>\n",
              "    <tr>\n",
              "      <th>3</th>\n",
              "      <td>1000095379</td>\n",
              "      <td>1.0</td>\n",
              "      <td>второй забивают заказ</td>\n",
              "    </tr>\n",
              "    <tr>\n",
              "      <th>4</th>\n",
              "      <td>1000095379</td>\n",
              "      <td>5.0</td>\n",
              "      <td>любимая пиццерия</td>\n",
              "    </tr>\n",
              "    <tr>\n",
              "      <th>...</th>\n",
              "      <td>...</td>\n",
              "      <td>...</td>\n",
              "      <td>...</td>\n",
              "    </tr>\n",
              "    <tr>\n",
              "      <th>328640</th>\n",
              "      <td>245591834558</td>\n",
              "      <td>5.0</td>\n",
              "      <td>очень вкусная пицца</td>\n",
              "    </tr>\n",
              "    <tr>\n",
              "      <th>328641</th>\n",
              "      <td>245591834558</td>\n",
              "      <td>5.0</td>\n",
              "      <td>лучший борщ роза хутор большая порция теплый х...</td>\n",
              "    </tr>\n",
              "    <tr>\n",
              "      <th>328642</th>\n",
              "      <td>245591834558</td>\n",
              "      <td>5.0</td>\n",
              "      <td>понравилось пицца норм</td>\n",
              "    </tr>\n",
              "    <tr>\n",
              "      <th>328643</th>\n",
              "      <td>245591834558</td>\n",
              "      <td>1.0</td>\n",
              "      <td>обслуживание нормальное соотношение цена/качес...</td>\n",
              "    </tr>\n",
              "    <tr>\n",
              "      <th>328644</th>\n",
              "      <td>245591834558</td>\n",
              "      <td>1.0</td>\n",
              "      <td>ооочень долгое обслуживание необоснованно высо...</td>\n",
              "    </tr>\n",
              "  </tbody>\n",
              "</table>\n",
              "<p>328368 rows × 3 columns</p>\n",
              "</div>"
            ],
            "text/plain": [
              "           permalink  rating                                        review_text\n",
              "0         1000095379     4.0  вкусная питца естт летнее кафе доставка приемл...\n",
              "1         1000095379     1.0  думал днём детьми посидеть открытой площадке т...\n",
              "2         1000095379     4.0  веранда вкусная пицца делают половине паковка ...\n",
              "3         1000095379     1.0                              второй забивают заказ\n",
              "4         1000095379     5.0                                   любимая пиццерия\n",
              "...              ...     ...                                                ...\n",
              "328640  245591834558     5.0                                очень вкусная пицца\n",
              "328641  245591834558     5.0  лучший борщ роза хутор большая порция теплый х...\n",
              "328642  245591834558     5.0                             понравилось пицца норм\n",
              "328643  245591834558     1.0  обслуживание нормальное соотношение цена/качес...\n",
              "328644  245591834558     1.0  ооочень долгое обслуживание необоснованно высо...\n",
              "\n",
              "[328368 rows x 3 columns]"
            ]
          },
          "metadata": {},
          "execution_count": 39
        }
      ]
    },
    {
      "cell_type": "markdown",
      "metadata": {
        "id": "AIOgslmJNkYV"
      },
      "source": [
        "# Data Proccesing"
      ]
    },
    {
      "cell_type": "markdown",
      "metadata": {
        "id": "CFbgpibXN8Hm"
      },
      "source": [
        "*Vectorization (importance estimation of the word in the\n",
        "dataset)*"
      ]
    },
    {
      "cell_type": "code",
      "metadata": {
        "id": "AfVNbe3QObbw"
      },
      "source": [
        "tfidf = TfidfVectorizer(max_features=1000, ngram_range=(1,2))\n",
        "tfidf.fit(df['review_text'])\n",
        "\n",
        "X = tfidf.transform(df['review_text'])\n",
        "y = df['rating']"
      ],
      "execution_count": 40,
      "outputs": []
    },
    {
      "cell_type": "markdown",
      "metadata": {
        "id": "OB0zonMcPIki"
      },
      "source": [
        "*Spliting dataset into train & test sets*"
      ]
    },
    {
      "cell_type": "code",
      "metadata": {
        "id": "_bMT4uyLOwSn"
      },
      "source": [
        "from sklearn.model_selection import train_test_split\n",
        "X_train, X_test, y_train, y_test = train_test_split(X,y,test_size=0.2)"
      ],
      "execution_count": 41,
      "outputs": []
    },
    {
      "cell_type": "markdown",
      "metadata": {
        "id": "upGvipLTPP_R"
      },
      "source": [
        "# Building Model"
      ]
    },
    {
      "cell_type": "code",
      "metadata": {
        "id": "iz8xeXFCRn_5",
        "colab": {
          "base_uri": "https://localhost:8080/"
        },
        "outputId": "e8fe8c7f-0de9-440f-a608-ceb279b31109"
      },
      "source": [
        "clf = LogisticRegression(random_state=123).fit(X_train, y_train)\n",
        "y_pred = clf.predict(X_test)"
      ],
      "execution_count": 42,
      "outputs": [
        {
          "output_type": "stream",
          "name": "stderr",
          "text": [
            "/usr/local/lib/python3.7/dist-packages/sklearn/linear_model/_logistic.py:818: ConvergenceWarning: lbfgs failed to converge (status=1):\n",
            "STOP: TOTAL NO. of ITERATIONS REACHED LIMIT.\n",
            "\n",
            "Increase the number of iterations (max_iter) or scale the data as shown in:\n",
            "    https://scikit-learn.org/stable/modules/preprocessing.html\n",
            "Please also refer to the documentation for alternative solver options:\n",
            "    https://scikit-learn.org/stable/modules/linear_model.html#logistic-regression\n",
            "  extra_warning_msg=_LOGISTIC_SOLVER_CONVERGENCE_MSG,\n"
          ]
        }
      ]
    },
    {
      "cell_type": "code",
      "metadata": {
        "colab": {
          "base_uri": "https://localhost:8080/"
        },
        "id": "5kfM3XLfqIBS",
        "outputId": "77bfda1f-39fe-4c0d-ae23-b6e795ce30bb"
      },
      "source": [
        "confusion_matrix(y_test, y_pred)"
      ],
      "execution_count": 43,
      "outputs": [
        {
          "output_type": "execute_result",
          "data": {
            "text/plain": [
              "array([[ 2520,    34,   440,   154,  1157],\n",
              "       [  842,    35,   420,   155,   796],\n",
              "       [  681,    36,   862,   636,  1827],\n",
              "       [  267,    10,   489,  1550,  5249],\n",
              "       [  353,     4,   306,   874, 45977]])"
            ]
          },
          "metadata": {},
          "execution_count": 43
        }
      ]
    },
    {
      "cell_type": "code",
      "metadata": {
        "colab": {
          "base_uri": "https://localhost:8080/"
        },
        "id": "09UmHZD5qK_-",
        "outputId": "00afa01d-93e0-4010-d807-c040b5a4b64c"
      },
      "source": [
        "accuracy_score(y_test, y_pred)"
      ],
      "execution_count": 44,
      "outputs": [
        {
          "output_type": "execute_result",
          "data": {
            "text/plain": [
              "0.7757103267655389"
            ]
          },
          "metadata": {},
          "execution_count": 44
        }
      ]
    },
    {
      "cell_type": "code",
      "metadata": {
        "colab": {
          "base_uri": "https://localhost:8080/",
          "height": 862
        },
        "id": "9YVj7qXat6jV",
        "outputId": "6ed31013-6c09-4a28-fcc2-007997dd0c7f"
      },
      "source": [
        "titles_options = [\n",
        "    (\"Confusion matrix, without normalization\", None),\n",
        "    (\"Normalized confusion matrix\", \"true\"),\n",
        "]\n",
        "for title, normalize in titles_options:\n",
        "    disp = ConfusionMatrixDisplay.from_estimator(\n",
        "        clf,\n",
        "        X_test,\n",
        "        y_test,\n",
        "        cmap=plt.cm.Blues,\n",
        "        normalize=normalize,\n",
        "    )\n",
        "    disp.ax_.set_title(title)\n",
        "\n",
        "    print(title)\n",
        "    print(disp.confusion_matrix)\n",
        "\n",
        "plt.show()"
      ],
      "execution_count": 45,
      "outputs": [
        {
          "output_type": "stream",
          "name": "stdout",
          "text": [
            "Confusion matrix, without normalization\n",
            "[[ 2520    34   440   154  1157]\n",
            " [  842    35   420   155   796]\n",
            " [  681    36   862   636  1827]\n",
            " [  267    10   489  1550  5249]\n",
            " [  353     4   306   874 45977]]\n",
            "Normalized confusion matrix\n",
            "[[5.85365854e-01 7.89779326e-03 1.02206736e-01 3.57723577e-02\n",
            "  2.68757259e-01]\n",
            " [3.74555160e-01 1.55693950e-02 1.86832740e-01 6.89501779e-02\n",
            "  3.54092527e-01]\n",
            " [1.68480950e-01 8.90648194e-03 2.13260762e-01 1.57347848e-01\n",
            "  4.52003958e-01]\n",
            " [3.52941176e-02 1.32187707e-03 6.46397885e-02 2.04890945e-01\n",
            "  6.93853272e-01]\n",
            " [7.42938923e-03 8.41857137e-05 6.44020710e-03 1.83945784e-02\n",
            "  9.67651640e-01]]\n"
          ]
        },
        {
          "output_type": "display_data",
          "data": {
            "image/png": "[encoded data removed]",
            "text/plain": [
              "<Figure size 432x288 with 2 Axes>"
            ]
          },
          "metadata": {
            "needs_background": "light"
          }
        },
        {
          "output_type": "display_data",
          "data": {
            "image/png": "[encoded data removed]",
            "text/plain": [
              "<Figure size 432x288 with 2 Axes>"
            ]
          },
          "metadata": {
            "needs_background": "light"
          }
        }
      ]
    }
  ]
}