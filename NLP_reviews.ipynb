{
  "nbformat": 4,
  "nbformat_minor": 0,
  "metadata": {
    "colab": {
      "name": "NLP-reviews.ipynb",
      "provenance": [],
      "collapsed_sections": [],
      "mount_file_id": "1Y0On5giL4YMc03pkoIGQBFBDcByDnhI-",
      "authorship_tag": "ABX9TyPnQ49oSA89hA7WY8db6UN4",
      "include_colab_link": true
    },
    "kernelspec": {
      "name": "python3",
      "display_name": "Python 3"
    },
    "language_info": {
      "name": "python"
    }
  },
  "cells": [
    {
      "cell_type": "markdown",
      "metadata": {
        "id": "view-in-github",
        "colab_type": "text"
      },
      "source": [
        "<a href=\"https://colab.research.google.com/github/savinkova-mariia/NLP/blob/main/NLP_reviews.ipynb\" target=\"_parent\"><img src=\"https://colab.research.google.com/assets/colab-badge.svg\" alt=\"Open In Colab\"/></a>"
      ]
    },
    {
      "cell_type": "markdown",
      "metadata": {
        "id": "YvU_gfL5LNfo"
      },
      "source": [
        "# All Imports"
      ]
    },
    {
      "cell_type": "code",
      "metadata": {
        "id": "2nB9CPv2KtUD"
      },
      "source": [
        "import pandas as pd\n",
        "\n",
        "import nltk\n",
        "from nltk.corpus import stopwords\n",
        "from nltk.stem import PorterStemmer, WordNetLemmatizer\n",
        "import string\n",
        "import re\n",
        "from nltk import word_tokenize\n",
        "import matplotlib.pyplot as plt\n",
        "import seaborn as sns\n",
        "\n",
        "nltk.download(\"wordnet\")\n",
        "nltk.download('stopwords')\n",
        "nltk.download('punkt')\n",
        "nltk.download('words')\n",
        "\n",
        "from sklearn.feature_extraction.text import TfidfVectorizer, TfidfTransformer\n",
        "from sklearn.model_selection import train_test_split\n",
        "\n",
        "from sklearn.tree import DecisionTreeClassifier\n",
        "from sklearn.metrics import accuracy_score\n",
        "from sklearn.metrics import classification_report, confusion_matrix\n",
        "from sklearn import tree, metrics\n",
        "from sklearn.multiclass import OneVsRestClassifier\n"
      ],
      "execution_count": null,
      "outputs": []
    },
    {
      "cell_type": "code",
      "metadata": {
        "id": "fZTsxtDuLFpp"
      },
      "source": [
        "df=pd.read_csv('/content/drive/MyDrive/NLP/reviews.tsv', sep='\\t')"
      ],
      "execution_count": null,
      "outputs": []
    },
    {
      "cell_type": "markdown",
      "metadata": {
        "id": "fVOrN1syLYBf"
      },
      "source": [
        "# Data Cleaning"
      ]
    },
    {
      "cell_type": "markdown",
      "metadata": {
        "id": "_WdkTX_eLmU3"
      },
      "source": [
        "*Removing:*\n",
        "\n",
        "*   reviews with 0 rating\n",
        "*   null values"
      ]
    },
    {
      "cell_type": "code",
      "metadata": {
        "id": "dZEomq8tLcHw"
      },
      "source": [
        "df = df.drop(df[(df[\"rating\"] == 0.0)].index)\n",
        "\n",
        "df.dropna(inplace=True)"
      ],
      "execution_count": null,
      "outputs": []
    },
    {
      "cell_type": "markdown",
      "metadata": {
        "id": "xFwq52p9MWJV"
      },
      "source": [
        "*Lemmatization*"
      ]
    },
    {
      "cell_type": "code",
      "metadata": {
        "id": "671-gMnOMU6b"
      },
      "source": [
        "lemmatizer = WordNetLemmatizer()"
      ],
      "execution_count": null,
      "outputs": []
    },
    {
      "cell_type": "markdown",
      "metadata": {
        "id": "IiEu4U-KMclx"
      },
      "source": [
        "Removing Stop Words"
      ]
    },
    {
      "cell_type": "code",
      "metadata": {
        "id": "6ZYmP3E0Mb0F"
      },
      "source": [
        "stop_words = set(stopwords.words(\"russian\"))"
      ],
      "execution_count": null,
      "outputs": []
    },
    {
      "cell_type": "markdown",
      "metadata": {
        "id": "Bx5XAnIFMkot"
      },
      "source": [
        "*Data Cleaning*"
      ]
    },
    {
      "cell_type": "code",
      "metadata": {
        "id": "5ovND94kMhVf"
      },
      "source": [
        "def clean_reviews(review):\n",
        "\n",
        "    # Removing extra spaces\n",
        "    review = re.sub(\" +\", \" \", review)\n",
        "    # Make the alphsbets lower\n",
        "    review = review.lower()\n",
        "    # Lemmatizating the words\n",
        "    review = [lemmatizer.lemmatize(token) for token in word_tokenize(review)]\n",
        "    # Removing the stop words.\n",
        "    review = [word for word in review if not word in stop_words]\n",
        "    # removing the all single letter words\n",
        "    review = [i for i in review if len(i)>1]\n",
        "    # join the text into the string\n",
        "    review = \" \".join(review)\n",
        "\n",
        "    return review"
      ],
      "execution_count": null,
      "outputs": []
    },
    {
      "cell_type": "code",
      "metadata": {
        "colab": {
          "base_uri": "https://localhost:8080/",
          "height": 419
        },
        "id": "JzholxT7NJED",
        "outputId": "79b6d0b1-756b-4b7f-abf5-d506d5e39ff2"
      },
      "source": [
        "df['review_text'] = df['review_text'].apply(clean_reviews)\n",
        "df"
      ],
      "execution_count": null,
      "outputs": [
        {
          "output_type": "execute_result",
          "data": {
            "text/html": [
              "<div>\n",
              "<style scoped>\n",
              "    .dataframe tbody tr th:only-of-type {\n",
              "        vertical-align: middle;\n",
              "    }\n",
              "\n",
              "    .dataframe tbody tr th {\n",
              "        vertical-align: top;\n",
              "    }\n",
              "\n",
              "    .dataframe thead th {\n",
              "        text-align: right;\n",
              "    }\n",
              "</style>\n",
              "<table border=\"1\" class=\"dataframe\">\n",
              "  <thead>\n",
              "    <tr style=\"text-align: right;\">\n",
              "      <th></th>\n",
              "      <th>permalink</th>\n",
              "      <th>rating</th>\n",
              "      <th>review_text</th>\n",
              "    </tr>\n",
              "  </thead>\n",
              "  <tbody>\n",
              "    <tr>\n",
              "      <th>0</th>\n",
              "      <td>1000095379</td>\n",
              "      <td>4.0</td>\n",
              "      <td>вкусная питца естт летнее кафе доставка приемл...</td>\n",
              "    </tr>\n",
              "    <tr>\n",
              "      <th>1</th>\n",
              "      <td>1000095379</td>\n",
              "      <td>1.0</td>\n",
              "      <td>думал днём детьми посидеть открытой площадке т...</td>\n",
              "    </tr>\n",
              "    <tr>\n",
              "      <th>2</th>\n",
              "      <td>1000095379</td>\n",
              "      <td>4.0</td>\n",
              "      <td>веранда вкусная пицца делают половине паковка ...</td>\n",
              "    </tr>\n",
              "    <tr>\n",
              "      <th>3</th>\n",
              "      <td>1000095379</td>\n",
              "      <td>1.0</td>\n",
              "      <td>второй забивают заказ</td>\n",
              "    </tr>\n",
              "    <tr>\n",
              "      <th>4</th>\n",
              "      <td>1000095379</td>\n",
              "      <td>5.0</td>\n",
              "      <td>любимая пиццерия</td>\n",
              "    </tr>\n",
              "    <tr>\n",
              "      <th>...</th>\n",
              "      <td>...</td>\n",
              "      <td>...</td>\n",
              "      <td>...</td>\n",
              "    </tr>\n",
              "    <tr>\n",
              "      <th>328640</th>\n",
              "      <td>245591834558</td>\n",
              "      <td>5.0</td>\n",
              "      <td>очень вкусная пицца</td>\n",
              "    </tr>\n",
              "    <tr>\n",
              "      <th>328641</th>\n",
              "      <td>245591834558</td>\n",
              "      <td>5.0</td>\n",
              "      <td>лучший борщ роза хутор большая порция теплый х...</td>\n",
              "    </tr>\n",
              "    <tr>\n",
              "      <th>328642</th>\n",
              "      <td>245591834558</td>\n",
              "      <td>5.0</td>\n",
              "      <td>понравилось пицца норм</td>\n",
              "    </tr>\n",
              "    <tr>\n",
              "      <th>328643</th>\n",
              "      <td>245591834558</td>\n",
              "      <td>1.0</td>\n",
              "      <td>обслуживание нормальное соотношение цена/качес...</td>\n",
              "    </tr>\n",
              "    <tr>\n",
              "      <th>328644</th>\n",
              "      <td>245591834558</td>\n",
              "      <td>1.0</td>\n",
              "      <td>ооочень долгое обслуживание необоснованно высо...</td>\n",
              "    </tr>\n",
              "  </tbody>\n",
              "</table>\n",
              "<p>328368 rows × 3 columns</p>\n",
              "</div>"
            ],
            "text/plain": [
              "           permalink  rating                                        review_text\n",
              "0         1000095379     4.0  вкусная питца естт летнее кафе доставка приемл...\n",
              "1         1000095379     1.0  думал днём детьми посидеть открытой площадке т...\n",
              "2         1000095379     4.0  веранда вкусная пицца делают половине паковка ...\n",
              "3         1000095379     1.0                              второй забивают заказ\n",
              "4         1000095379     5.0                                   любимая пиццерия\n",
              "...              ...     ...                                                ...\n",
              "328640  245591834558     5.0                                очень вкусная пицца\n",
              "328641  245591834558     5.0  лучший борщ роза хутор большая порция теплый х...\n",
              "328642  245591834558     5.0                             понравилось пицца норм\n",
              "328643  245591834558     1.0  обслуживание нормальное соотношение цена/качес...\n",
              "328644  245591834558     1.0  ооочень долгое обслуживание необоснованно высо...\n",
              "\n",
              "[328368 rows x 3 columns]"
            ]
          },
          "metadata": {},
          "execution_count": 8
        }
      ]
    },
    {
      "cell_type": "markdown",
      "metadata": {
        "id": "AIOgslmJNkYV"
      },
      "source": [
        "# Data Proccesing"
      ]
    },
    {
      "cell_type": "markdown",
      "metadata": {
        "id": "CFbgpibXN8Hm"
      },
      "source": [
        "*Vectorization (importance estimation of the word in the\n",
        "dataset)*"
      ]
    },
    {
      "cell_type": "code",
      "metadata": {
        "id": "AfVNbe3QObbw"
      },
      "source": [
        "tfidf = TfidfVectorizer(max_features=1000, ngram_range=(1,2))\n",
        "tfidf.fit(df['review_text'])\n",
        "\n",
        "X = tfidf.transform(df['review_text'])\n",
        "y = df['rating']"
      ],
      "execution_count": null,
      "outputs": []
    },
    {
      "cell_type": "markdown",
      "metadata": {
        "id": "OB0zonMcPIki"
      },
      "source": [
        "*Spliting dataset into train & test sets*"
      ]
    },
    {
      "cell_type": "code",
      "metadata": {
        "id": "_bMT4uyLOwSn"
      },
      "source": [
        "from sklearn.model_selection import train_test_split\n",
        "X_train, X_test, y_train, y_test = train_test_split(X,y,test_size=0.2)"
      ],
      "execution_count": null,
      "outputs": []
    },
    {
      "cell_type": "markdown",
      "metadata": {
        "id": "upGvipLTPP_R"
      },
      "source": [
        "# Building Model"
      ]
    },
    {
      "cell_type": "code",
      "metadata": {
        "id": "iz8xeXFCRn_5"
      },
      "source": [
        "from sklearn.linear_model import LogisticRegression\n",
        "clf = LogisticRegression(random_state=0).fit(X_train, y_train)"
      ],
      "execution_count": null,
      "outputs": []
    },
    {
      "cell_type": "code",
      "metadata": {
        "id": "Ieag90VpR0fN"
      },
      "source": [
        "y_pred = clf.predict(X_test)"
      ],
      "execution_count": null,
      "outputs": []
    }
  ]
}